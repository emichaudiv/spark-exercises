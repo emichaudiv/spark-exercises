{
 "cells": [
  {
   "cell_type": "code",
   "execution_count": 5,
   "id": "6b085af4",
   "metadata": {},
   "outputs": [],
   "source": [
    "import pandas as pd\n",
    "import numpy as np\n",
    "from sklearn.model_selection import train_test_split, cross_val_score, GridSearchCV"
   ]
  },
  {
   "cell_type": "code",
   "execution_count": 6,
   "id": "d0c2e3a0",
   "metadata": {},
   "outputs": [],
   "source": [
    "cars = pd.read_csv('cars.csv')"
   ]
  },
  {
   "cell_type": "code",
   "execution_count": 7,
   "id": "0888fbc8",
   "metadata": {},
   "outputs": [
    {
     "name": "stdout",
     "output_type": "stream",
     "text": [
      "<class 'pandas.core.frame.DataFrame'>\n",
      "RangeIndex: 297899 entries, 0 to 297898\n",
      "Data columns (total 8 columns):\n",
      " #   Column   Non-Null Count   Dtype \n",
      "---  ------   --------------   ----- \n",
      " 0   price    297899 non-null  int64 \n",
      " 1   year     297899 non-null  int64 \n",
      " 2   mileage  297899 non-null  int64 \n",
      " 3   city     297899 non-null  object\n",
      " 4   state    297899 non-null  object\n",
      " 5   vin      297899 non-null  object\n",
      " 6   make     297899 non-null  object\n",
      " 7   model    297899 non-null  object\n",
      "dtypes: int64(3), object(5)\n",
      "memory usage: 18.2+ MB\n"
     ]
    }
   ],
   "source": [
    "cars.info()"
   ]
  },
  {
   "cell_type": "code",
   "execution_count": 8,
   "id": "8683701e",
   "metadata": {},
   "outputs": [
    {
     "data": {
      "text/plain": [
       "make     model          year\n",
       "AM       General        1997     62489.250000\n",
       "                        1998     47499.500000\n",
       "                        1999     48097.500000\n",
       "                        2000     58658.142857\n",
       "                        2001     71748.000000\n",
       "                                    ...      \n",
       "Porsche  PanameraTurbo  2013     72924.000000\n",
       "                        2014     81624.333333\n",
       "                        2015     88990.000000\n",
       "                        2017    148993.333333\n",
       "         Panamerabase   2013     43296.833333\n",
       "Name: price, Length: 5833, dtype: float64"
      ]
     },
     "execution_count": 8,
     "metadata": {},
     "output_type": "execute_result"
    }
   ],
   "source": [
    "cars.groupby(['make', 'model','year']).price.mean()"
   ]
  },
  {
   "cell_type": "code",
   "execution_count": 9,
   "id": "223fc590",
   "metadata": {},
   "outputs": [],
   "source": [
    "cars['mean_price'] = cars.groupby(\n",
    "    ['make','model','year']).price.transform('mean')"
   ]
  },
  {
   "cell_type": "code",
   "execution_count": 10,
   "id": "d3bc3083",
   "metadata": {},
   "outputs": [
    {
     "data": {
      "text/html": [
       "<div>\n",
       "<style scoped>\n",
       "    .dataframe tbody tr th:only-of-type {\n",
       "        vertical-align: middle;\n",
       "    }\n",
       "\n",
       "    .dataframe tbody tr th {\n",
       "        vertical-align: top;\n",
       "    }\n",
       "\n",
       "    .dataframe thead th {\n",
       "        text-align: right;\n",
       "    }\n",
       "</style>\n",
       "<table border=\"1\" class=\"dataframe\">\n",
       "  <thead>\n",
       "    <tr style=\"text-align: right;\">\n",
       "      <th></th>\n",
       "      <th>price</th>\n",
       "      <th>year</th>\n",
       "      <th>mileage</th>\n",
       "      <th>city</th>\n",
       "      <th>state</th>\n",
       "      <th>vin</th>\n",
       "      <th>make</th>\n",
       "      <th>model</th>\n",
       "      <th>mean_price</th>\n",
       "    </tr>\n",
       "  </thead>\n",
       "  <tbody>\n",
       "    <tr>\n",
       "      <th>0</th>\n",
       "      <td>16472</td>\n",
       "      <td>2015</td>\n",
       "      <td>18681</td>\n",
       "      <td>Jefferson City</td>\n",
       "      <td>MO</td>\n",
       "      <td>KL4CJBSBXFB267643</td>\n",
       "      <td>Buick</td>\n",
       "      <td>EncoreConvenience</td>\n",
       "      <td>17291.768786</td>\n",
       "    </tr>\n",
       "    <tr>\n",
       "      <th>1</th>\n",
       "      <td>15749</td>\n",
       "      <td>2015</td>\n",
       "      <td>27592</td>\n",
       "      <td>Highland</td>\n",
       "      <td>IN</td>\n",
       "      <td>KL4CJASB5FB245057</td>\n",
       "      <td>Buick</td>\n",
       "      <td>EncoreFWD</td>\n",
       "      <td>16721.350598</td>\n",
       "    </tr>\n",
       "    <tr>\n",
       "      <th>2</th>\n",
       "      <td>16998</td>\n",
       "      <td>2015</td>\n",
       "      <td>13650</td>\n",
       "      <td>Boone</td>\n",
       "      <td>NC</td>\n",
       "      <td>KL4CJCSB0FB264921</td>\n",
       "      <td>Buick</td>\n",
       "      <td>EncoreLeather</td>\n",
       "      <td>19080.632911</td>\n",
       "    </tr>\n",
       "    <tr>\n",
       "      <th>3</th>\n",
       "      <td>15777</td>\n",
       "      <td>2015</td>\n",
       "      <td>25195</td>\n",
       "      <td>New Orleans</td>\n",
       "      <td>LA</td>\n",
       "      <td>KL4CJASB4FB217542</td>\n",
       "      <td>Buick</td>\n",
       "      <td>EncoreFWD</td>\n",
       "      <td>16721.350598</td>\n",
       "    </tr>\n",
       "    <tr>\n",
       "      <th>4</th>\n",
       "      <td>16784</td>\n",
       "      <td>2015</td>\n",
       "      <td>22800</td>\n",
       "      <td>Las Vegas</td>\n",
       "      <td>NV</td>\n",
       "      <td>KL4CJBSB3FB166881</td>\n",
       "      <td>Buick</td>\n",
       "      <td>EncoreConvenience</td>\n",
       "      <td>17291.768786</td>\n",
       "    </tr>\n",
       "  </tbody>\n",
       "</table>\n",
       "</div>"
      ],
      "text/plain": [
       "   price  year  mileage            city state                vin   make  \\\n",
       "0  16472  2015    18681  Jefferson City    MO  KL4CJBSBXFB267643  Buick   \n",
       "1  15749  2015    27592        Highland    IN  KL4CJASB5FB245057  Buick   \n",
       "2  16998  2015    13650           Boone    NC  KL4CJCSB0FB264921  Buick   \n",
       "3  15777  2015    25195     New Orleans    LA  KL4CJASB4FB217542  Buick   \n",
       "4  16784  2015    22800       Las Vegas    NV  KL4CJBSB3FB166881  Buick   \n",
       "\n",
       "               model    mean_price  \n",
       "0  EncoreConvenience  17291.768786  \n",
       "1          EncoreFWD  16721.350598  \n",
       "2      EncoreLeather  19080.632911  \n",
       "3          EncoreFWD  16721.350598  \n",
       "4  EncoreConvenience  17291.768786  "
      ]
     },
     "execution_count": 10,
     "metadata": {},
     "output_type": "execute_result"
    }
   ],
   "source": [
    "cars.head()"
   ]
  },
  {
   "cell_type": "code",
   "execution_count": 11,
   "id": "6d17120c",
   "metadata": {},
   "outputs": [],
   "source": [
    "num_feats = [col for col in cars.columns if (\n",
    "    np.issubdtype(cars[col], np.number\n",
    "    ) and cars[col].nunique() > 25)]"
   ]
  },
  {
   "cell_type": "code",
   "execution_count": 12,
   "id": "915a50db",
   "metadata": {},
   "outputs": [
    {
     "data": {
      "text/plain": [
       "['price', 'mileage', 'mean_price']"
      ]
     },
     "execution_count": 12,
     "metadata": {},
     "output_type": "execute_result"
    }
   ],
   "source": [
    "num_feats"
   ]
  },
  {
   "cell_type": "code",
   "execution_count": 14,
   "id": "842ead37",
   "metadata": {},
   "outputs": [],
   "source": [
    "from sklearn.preprocessing import LabelEncoder"
   ]
  },
  {
   "cell_type": "code",
   "execution_count": 15,
   "id": "fc63f34c",
   "metadata": {},
   "outputs": [],
   "source": [
    "for col in ['state', 'make', 'model']:\n",
    "    encoder = LabelEncoder()\n",
    "    cars[col] = encoder.fit_transform(cars[col])"
   ]
  },
  {
   "cell_type": "code",
   "execution_count": 16,
   "id": "562fe768",
   "metadata": {},
   "outputs": [
    {
     "data": {
      "text/html": [
       "<div>\n",
       "<style scoped>\n",
       "    .dataframe tbody tr th:only-of-type {\n",
       "        vertical-align: middle;\n",
       "    }\n",
       "\n",
       "    .dataframe tbody tr th {\n",
       "        vertical-align: top;\n",
       "    }\n",
       "\n",
       "    .dataframe thead th {\n",
       "        text-align: right;\n",
       "    }\n",
       "</style>\n",
       "<table border=\"1\" class=\"dataframe\">\n",
       "  <thead>\n",
       "    <tr style=\"text-align: right;\">\n",
       "      <th></th>\n",
       "      <th>price</th>\n",
       "      <th>year</th>\n",
       "      <th>mileage</th>\n",
       "      <th>city</th>\n",
       "      <th>state</th>\n",
       "      <th>vin</th>\n",
       "      <th>make</th>\n",
       "      <th>model</th>\n",
       "      <th>mean_price</th>\n",
       "    </tr>\n",
       "  </thead>\n",
       "  <tbody>\n",
       "    <tr>\n",
       "      <th>0</th>\n",
       "      <td>16472</td>\n",
       "      <td>2015</td>\n",
       "      <td>18681</td>\n",
       "      <td>Jefferson City</td>\n",
       "      <td>28</td>\n",
       "      <td>KL4CJBSBXFB267643</td>\n",
       "      <td>7</td>\n",
       "      <td>523</td>\n",
       "      <td>17291.768786</td>\n",
       "    </tr>\n",
       "    <tr>\n",
       "      <th>1</th>\n",
       "      <td>15749</td>\n",
       "      <td>2015</td>\n",
       "      <td>27592</td>\n",
       "      <td>Highland</td>\n",
       "      <td>19</td>\n",
       "      <td>KL4CJASB5FB245057</td>\n",
       "      <td>7</td>\n",
       "      <td>525</td>\n",
       "      <td>16721.350598</td>\n",
       "    </tr>\n",
       "    <tr>\n",
       "      <th>2</th>\n",
       "      <td>16998</td>\n",
       "      <td>2015</td>\n",
       "      <td>13650</td>\n",
       "      <td>Boone</td>\n",
       "      <td>32</td>\n",
       "      <td>KL4CJCSB0FB264921</td>\n",
       "      <td>7</td>\n",
       "      <td>526</td>\n",
       "      <td>19080.632911</td>\n",
       "    </tr>\n",
       "    <tr>\n",
       "      <th>3</th>\n",
       "      <td>15777</td>\n",
       "      <td>2015</td>\n",
       "      <td>25195</td>\n",
       "      <td>New Orleans</td>\n",
       "      <td>22</td>\n",
       "      <td>KL4CJASB4FB217542</td>\n",
       "      <td>7</td>\n",
       "      <td>525</td>\n",
       "      <td>16721.350598</td>\n",
       "    </tr>\n",
       "    <tr>\n",
       "      <th>4</th>\n",
       "      <td>16784</td>\n",
       "      <td>2015</td>\n",
       "      <td>22800</td>\n",
       "      <td>Las Vegas</td>\n",
       "      <td>38</td>\n",
       "      <td>KL4CJBSB3FB166881</td>\n",
       "      <td>7</td>\n",
       "      <td>523</td>\n",
       "      <td>17291.768786</td>\n",
       "    </tr>\n",
       "  </tbody>\n",
       "</table>\n",
       "</div>"
      ],
      "text/plain": [
       "   price  year  mileage            city  state                vin  make  \\\n",
       "0  16472  2015    18681  Jefferson City     28  KL4CJBSBXFB267643     7   \n",
       "1  15749  2015    27592        Highland     19  KL4CJASB5FB245057     7   \n",
       "2  16998  2015    13650           Boone     32  KL4CJCSB0FB264921     7   \n",
       "3  15777  2015    25195     New Orleans     22  KL4CJASB4FB217542     7   \n",
       "4  16784  2015    22800       Las Vegas     38  KL4CJBSB3FB166881     7   \n",
       "\n",
       "   model    mean_price  \n",
       "0    523  17291.768786  \n",
       "1    525  16721.350598  \n",
       "2    526  19080.632911  \n",
       "3    525  16721.350598  \n",
       "4    523  17291.768786  "
      ]
     },
     "execution_count": 16,
     "metadata": {},
     "output_type": "execute_result"
    }
   ],
   "source": [
    "cars.head()"
   ]
  },
  {
   "cell_type": "code",
   "execution_count": null,
   "id": "8e4be835",
   "metadata": {},
   "outputs": [],
   "source": []
  }
 ],
 "metadata": {
  "kernelspec": {
   "display_name": "Python 3 (ipykernel)",
   "language": "python",
   "name": "python3"
  },
  "language_info": {
   "codemirror_mode": {
    "name": "ipython",
    "version": 3
   },
   "file_extension": ".py",
   "mimetype": "text/x-python",
   "name": "python",
   "nbconvert_exporter": "python",
   "pygments_lexer": "ipython3",
   "version": "3.9.13"
  }
 },
 "nbformat": 4,
 "nbformat_minor": 5
}
